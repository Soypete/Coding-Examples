{
  "nbformat": 4,
  "nbformat_minor": 0,
  "metadata": {
    "colab": {
      "name": "NLP_thoughtbook.ipynb",
      "provenance": [],
      "collapsed_sections": [],
      "machine_shape": "hm",
      "include_colab_link": true
    },
    "kernelspec": {
      "name": "python3",
      "display_name": "Python 3"
    },
    "accelerator": "GPU"
  },
  "cells": [
    {
      "cell_type": "markdown",
      "metadata": {
        "id": "view-in-github",
        "colab_type": "text"
      },
      "source": [
        "<a href=\"https://colab.research.google.com/github/Soypete/Coding-Examples/blob/master/NLP_thoughtbook.ipynb\" target=\"_parent\"><img src=\"https://colab.research.google.com/assets/colab-badge.svg\" alt=\"Open In Colab\"/></a>"
      ]
    },
    {
      "cell_type": "markdown",
      "metadata": {
        "id": "n06fnZCZ2TBT",
        "colab_type": "text"
      },
      "source": [
        "# NLP Natural Language Processing\n",
        "\n",
        "Natural language processing is one of the biggest fields of Machine Learning. "
      ]
    },
    {
      "cell_type": "code",
      "metadata": {
        "id": "dWLXygi0Y360",
        "colab_type": "code",
        "colab": {}
      },
      "source": [
        "%%bash\n",
        "pip3 install nltk\n",
        "pip3 install sklearn"
      ],
      "execution_count": 0,
      "outputs": []
    },
    {
      "cell_type": "code",
      "metadata": {
        "id": "meqRy39nvCuQ",
        "colab_type": "code",
        "outputId": "edb38eb5-431f-40f4-d025-1da2e9f05707",
        "colab": {
          "base_uri": "https://localhost:8080/",
          "height": 35
        }
      },
      "source": [
        "from google.colab import drive\n",
        "\n",
        "train_path = '/content/gdrive/My Drive/ML/nlp/categorized.csv'\n",
        "\n",
        "drive.mount('/content/gdrive')"
      ],
      "execution_count": 0,
      "outputs": [
        {
          "output_type": "stream",
          "text": [
            "Drive already mounted at /content/gdrive; to attempt to forcibly remount, call drive.mount(\"/content/gdrive\", force_remount=True).\n"
          ],
          "name": "stdout"
        }
      ]
    },
    {
      "cell_type": "markdown",
      "metadata": {
        "id": "rPnWDbKIKNa0",
        "colab_type": "text"
      },
      "source": [
        "# NLTK exploration\n",
        "---\n",
        "\n",
        "# Create Word Data Set\n",
        "\n",
        "NLTK kas a large corpus of work data that we can download and use. the first step is to get data, explore the features, and determine use. "
      ]
    },
    {
      "cell_type": "code",
      "metadata": {
        "id": "dGP5o0lhIz9W",
        "colab_type": "code",
        "outputId": "1f86035f-4081-4b6f-ce5f-0083c0e57696",
        "colab": {
          "base_uri": "https://localhost:8080/",
          "height": 198
        }
      },
      "source": [
        "from sklearn.model_selection import train_test_split\n",
        "import numpy as np\n",
        "import pandas as pd\n",
        "\n",
        "\n",
        "train_df = pd.read_csv(train_path)\n",
        "train_df.head()"
      ],
      "execution_count": 0,
      "outputs": [
        {
          "output_type": "execute_result",
          "data": {
            "text/html": [
              "<div>\n",
              "<style scoped>\n",
              "    .dataframe tbody tr th:only-of-type {\n",
              "        vertical-align: middle;\n",
              "    }\n",
              "\n",
              "    .dataframe tbody tr th {\n",
              "        vertical-align: top;\n",
              "    }\n",
              "\n",
              "    .dataframe thead th {\n",
              "        text-align: right;\n",
              "    }\n",
              "</style>\n",
              "<table border=\"1\" class=\"dataframe\">\n",
              "  <thead>\n",
              "    <tr style=\"text-align: right;\">\n",
              "      <th></th>\n",
              "      <th>label</th>\n",
              "      <th>comment</th>\n",
              "      <th>author</th>\n",
              "      <th>subreddit</th>\n",
              "      <th>score</th>\n",
              "      <th>ups</th>\n",
              "      <th>downs</th>\n",
              "      <th>date</th>\n",
              "      <th>created_utc</th>\n",
              "      <th>parent_comment</th>\n",
              "    </tr>\n",
              "  </thead>\n",
              "  <tbody>\n",
              "    <tr>\n",
              "      <th>0</th>\n",
              "      <td>0</td>\n",
              "      <td>NC and NH.</td>\n",
              "      <td>Trumpbart</td>\n",
              "      <td>politics</td>\n",
              "      <td>2</td>\n",
              "      <td>-1</td>\n",
              "      <td>-1</td>\n",
              "      <td>2016-10</td>\n",
              "      <td>2016-10-16 23:55:23</td>\n",
              "      <td>Yeah, I get that argument. At this point, I'd ...</td>\n",
              "    </tr>\n",
              "    <tr>\n",
              "      <th>1</th>\n",
              "      <td>0</td>\n",
              "      <td>You do know west teams play against west teams...</td>\n",
              "      <td>Shbshb906</td>\n",
              "      <td>nba</td>\n",
              "      <td>-4</td>\n",
              "      <td>-1</td>\n",
              "      <td>-1</td>\n",
              "      <td>2016-11</td>\n",
              "      <td>2016-11-01 00:24:10</td>\n",
              "      <td>The blazers and Mavericks (The wests 5 and 6 s...</td>\n",
              "    </tr>\n",
              "    <tr>\n",
              "      <th>2</th>\n",
              "      <td>0</td>\n",
              "      <td>They were underdogs earlier today, but since G...</td>\n",
              "      <td>Creepeth</td>\n",
              "      <td>nfl</td>\n",
              "      <td>3</td>\n",
              "      <td>3</td>\n",
              "      <td>0</td>\n",
              "      <td>2016-09</td>\n",
              "      <td>2016-09-22 21:45:37</td>\n",
              "      <td>They're favored to win.</td>\n",
              "    </tr>\n",
              "    <tr>\n",
              "      <th>3</th>\n",
              "      <td>0</td>\n",
              "      <td>This meme isn't funny none of the \"new york ni...</td>\n",
              "      <td>icebrotha</td>\n",
              "      <td>BlackPeopleTwitter</td>\n",
              "      <td>-8</td>\n",
              "      <td>-1</td>\n",
              "      <td>-1</td>\n",
              "      <td>2016-10</td>\n",
              "      <td>2016-10-18 21:03:47</td>\n",
              "      <td>deadass don't kill my buzz</td>\n",
              "    </tr>\n",
              "    <tr>\n",
              "      <th>4</th>\n",
              "      <td>0</td>\n",
              "      <td>I could use one of those tools.</td>\n",
              "      <td>cush2push</td>\n",
              "      <td>MaddenUltimateTeam</td>\n",
              "      <td>6</td>\n",
              "      <td>-1</td>\n",
              "      <td>-1</td>\n",
              "      <td>2016-12</td>\n",
              "      <td>2016-12-30 17:00:13</td>\n",
              "      <td>Yep can confirm I saw the tool they use for th...</td>\n",
              "    </tr>\n",
              "  </tbody>\n",
              "</table>\n",
              "</div>"
            ],
            "text/plain": [
              "   label  ...                                     parent_comment\n",
              "0      0  ...  Yeah, I get that argument. At this point, I'd ...\n",
              "1      0  ...  The blazers and Mavericks (The wests 5 and 6 s...\n",
              "2      0  ...                            They're favored to win.\n",
              "3      0  ...                         deadass don't kill my buzz\n",
              "4      0  ...  Yep can confirm I saw the tool they use for th...\n",
              "\n",
              "[5 rows x 10 columns]"
            ]
          },
          "metadata": {
            "tags": []
          },
          "execution_count": 4
        }
      ]
    },
    {
      "cell_type": "code",
      "metadata": {
        "id": "UHpocrcXYrVo",
        "colab_type": "code",
        "outputId": "6ed96602-67ec-43e0-b82c-85e30d0a8e50",
        "colab": {
          "base_uri": "https://localhost:8080/",
          "height": 207
        }
      },
      "source": [
        "train_df.dtypes"
      ],
      "execution_count": 0,
      "outputs": [
        {
          "output_type": "execute_result",
          "data": {
            "text/plain": [
              "label              int64\n",
              "comment           object\n",
              "author            object\n",
              "subreddit         object\n",
              "score              int64\n",
              "ups                int64\n",
              "downs              int64\n",
              "date              object\n",
              "created_utc       object\n",
              "parent_comment    object\n",
              "dtype: object"
            ]
          },
          "metadata": {
            "tags": []
          },
          "execution_count": 5
        }
      ]
    },
    {
      "cell_type": "markdown",
      "metadata": {
        "id": "lAWKWpUqaXK9",
        "colab_type": "text"
      },
      "source": [
        "## Clean the data\n",
        "\n",
        "-1 means no up or down. it can be considered zero"
      ]
    },
    {
      "cell_type": "code",
      "metadata": {
        "id": "XxNvo43vaVLt",
        "colab_type": "code",
        "colab": {}
      },
      "source": [
        "for i, row in train_df.iterrows():\n",
        "   if row['ups'] == -1 and row['downs'] == -1:\n",
        "     row['ups'] = 0\n",
        "     row['downs'] = 0\n",
        "     train_df[i] = row"
      ],
      "execution_count": 0,
      "outputs": []
    },
    {
      "cell_type": "code",
      "metadata": {
        "id": "aVSxJjQsYnU7",
        "colab_type": "code",
        "colab": {}
      },
      "source": [
        "train_df.describe(include=[np.number])"
      ],
      "execution_count": 0,
      "outputs": []
    },
    {
      "cell_type": "markdown",
      "metadata": {
        "id": "B1QQm2wKe3rr",
        "colab_type": "text"
      },
      "source": [
        "this data shows the sarcasm score of the comment based on the parent comment. it is self annotated "
      ]
    },
    {
      "cell_type": "code",
      "metadata": {
        "id": "nxb-9yCqekYj",
        "colab_type": "code",
        "colab": {}
      },
      "source": [
        "from nltk import tokenize\n",
        "from nltk import FreqDist\n",
        "\n",
        "list1 = train_df[\"comment\"].astype('str').to_list()\n",
        "list2 = train_df[\"parent_comment\"].astype('str').to_list()\n",
        "l_comments = list1 + list2\n",
        "\n",
        "tokenizer =tokenize.MWETokenizer()\n",
        "\n",
        "reddit_words = []\n",
        "for sent in l_comments:\n",
        "  words = sent.split()\n",
        "  words = tokenizer.tokenize(sent.split())\n",
        "  reddit_words += words\n",
        "\n",
        "dist = FreqDist(reddit_words)\n"
      ],
      "execution_count": 0,
      "outputs": []
    },
    {
      "cell_type": "code",
      "metadata": {
        "id": "T95luvcJfbQ_",
        "colab_type": "code",
        "outputId": "dc345ac0-40e2-471b-f3b7-430fcce3e338",
        "colab": {
          "base_uri": "https://localhost:8080/",
          "height": 190
        }
      },
      "source": [
        "dist.most_common(10)"
      ],
      "execution_count": 0,
      "outputs": [
        {
          "output_type": "execute_result",
          "data": {
            "text/plain": [
              "[('the', 1222003),\n",
              " ('to', 851445),\n",
              " ('a', 810030),\n",
              " ('and', 624479),\n",
              " ('I', 614249),\n",
              " ('of', 544684),\n",
              " ('is', 458502),\n",
              " ('in', 411440),\n",
              " ('that', 384687),\n",
              " ('you', 372136)]"
            ]
          },
          "metadata": {
            "tags": []
          },
          "execution_count": 25
        }
      ]
    },
    {
      "cell_type": "code",
      "metadata": {
        "id": "5OzjZX1HsWfr",
        "colab_type": "code",
        "outputId": "fd38c9cc-ed49-445c-8e47-41073e179522",
        "colab": {
          "base_uri": "https://localhost:8080/",
          "height": 265
        }
      },
      "source": [
        "import matplotlib.pyplot as plt\n",
        "\n",
        "word = []\n",
        "count = []\n",
        "for tuples in dist.most_common(20):\n",
        "  word += [tuples[0]]\n",
        "  count += [tuples[1]]\n",
        "\n",
        "plt.bar(word, count)\n",
        "\n",
        "plt.show()\n"
      ],
      "execution_count": 0,
      "outputs": [
        {
          "output_type": "display_data",
          "data": {
            "image/png": "[encoded data removed]",
            "text/plain": [
              "<Figure size 432x288 with 1 Axes>"
            ]
          },
          "metadata": {
            "tags": []
          }
        }
      ]
    },
    {
      "cell_type": "code",
      "metadata": {
        "id": "ZoWP30mqxbOL",
        "colab_type": "code",
        "colab": {}
      },
      "source": [
        ""
      ],
      "execution_count": 0,
      "outputs": []
    }
  ]
}